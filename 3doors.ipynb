{
 "cells": [
  {
   "cell_type": "markdown",
   "id": "72b706a0",
   "metadata": {},
   "source": [
    "# The Monty Hall (or 3 doors) Problem"
   ]
  },
  {
   "cell_type": "markdown",
   "id": "04c4bfc2",
   "metadata": {},
   "source": [
    "A classic problem that puzzles most who have studied probability is the Monty Hall problem, whose statement is deceptively simple:\n",
    "\n",
    "   - You are on a game show. The host offers you the choice of three doors.\n",
    "\n",
    "   - Behind one door is a brand-new car; behind the other two are goats.\n",
    "\n",
    "   - You pick one door.\n",
    "\n",
    "   - The host, who knows what's behind each door, opens another door, revealing a goat.\n",
    "\n",
    "   - The host then asks: “Do you want to switch?”\n",
    "\n",
    "Assuming you want to win the car, what should you do?\n",
    "\n",
    "<span style=\"color: red\"> FIGURE </span>"
   ]
  },
  {
   "cell_type": "markdown",
   "id": "7a3c6b7c",
   "metadata": {},
   "source": [
    "\n",
    "This problem is named after [Monty Hall](https://en.wikipedia.org/wiki/Monty_Hall), the original host of the TV show [*Let’s Make a Deal*](https://en.wikipedia.org/wiki/Let%27s_Make_a_Deal), who frequently ran versions of this game on air.\n",
    "\n",
    "To experience this dilemma firsthand, I’ve created a [simple game](http://pessoap.github.io/3doors) that lets you play through the Monty Hall problem **just like a real contestant**.\n",
    "\n",
    "At first glance, many people assume it does not matter whether you switch. With two doors left, it is a 50/50 chance.\n",
    "\n",
    "It’s not. That intuition is misleading. In reality, **you should switch**."
   ]
  },
  {
   "cell_type": "markdown",
   "id": "6dbea8e5",
   "metadata": {},
   "source": [
    "## Why?\n",
    "\n",
    "After discussing this puzzle with many people from a wide range of backgrounds, I have found that the following short argument tends to be quite convincing:\n",
    "\n",
    "- The probability that you initially picked the door hiding the car is 1/3.\n",
    "- Thus, the probability that you picked a door hiding a goat is 2/3.\n",
    "- **If you picked a goat** (probability 2/3), the host reveals the other goat, and the remaining door must hide the car. **So, if you switch, you win; if you keep, you lose**.    \n",
    "- Conversely, **if you initially picked the car** (1/3), **switching causes you to lose** and keep makes you win.\n",
    "- **Therefore, if you switch, your probability of winning is 2/3; if you don t, it is 1/3**.\n",
    "\n",
    "Switching is clearly the better strategy.\n",
    "\n",
    "<span style=\"color: red\"> FIGURE </span>"
   ]
  },
  {
   "cell_type": "markdown",
   "id": "8e2c1485",
   "metadata": {},
   "source": [
    "## If you are not convinced\n",
    "If you're not convinced, you're not alone. As the story goes, even the highly respected mathematician [Paul Erdős](https://pt.wikipedia.org/wiki/Paul_Erd%C5%91s) initially refused to accept the correct solution. He only changed his mind after seeing the results of a computer simulation that consistently showed switching wins about two-thirds of the time.\n",
    "\n",
    "That is exactly what I intended to provide with the [game I have just made](http://pessoap.github.io/3doors).\n",
    "\n",
    "If you play the game multiple times, you’ll notice that switching consistently leads to better outcomes (two wins out of every three tries).\n",
    "\n",
    "However, if you suspect I have somehow biased the game in favor of switching, rest assured: [the code is available on Github](https://github.com/PessoaP/3_doors_simulation), and in the remainder of this blog post, I will walk you through exactly how it works."
   ]
  },
  {
   "cell_type": "markdown",
   "id": "56f1c772",
   "metadata": {},
   "source": [
    "## Simulating a single round\n",
    "\n",
    "### Setup\n",
    "Let us set up a single round of the Monty Hall problem in Python. We start by creating the three doors: two hide goats, one hides a car."
   ]
  },
  {
   "cell_type": "code",
   "execution_count": 1,
   "id": "048124e8",
   "metadata": {},
   "outputs": [],
   "source": [
    "import random\n",
    "\n",
    "doors = ['goat', 'goat', 'car']\n",
    "random.shuffle(doors)"
   ]
  },
  {
   "cell_type": "markdown",
   "id": "9dbba35d",
   "metadata": {},
   "source": [
    "Now, the `shuffle` happens behind the scenes, and as the player, you do not know where the car is (only your Python interpreter does). All you see are three closed doors, identical in appearance.\n",
    "\n",
    "So when you make your initial choice:"
   ]
  },
  {
   "cell_type": "code",
   "execution_count": 2,
   "id": "164ca74e",
   "metadata": {},
   "outputs": [],
   "source": [
    "choice = 1"
   ]
  },
  {
   "cell_type": "markdown",
   "id": "dc34f01d",
   "metadata": {},
   "source": [
    "I am leaving the variable `choice` as 1 by default, but you can change it by running [this blog post as a python notebook](https://github.com/PessoaP/blog/blob/master/...)  on my GitHub.\n",
    "\n",
    "That being said, this choice does not affect the overall probabilities. Since the car was placed randomly, each door has a probability 1/3 of hiding it. Your initial pick is a blind guess."
   ]
  },
  {
   "cell_type": "markdown",
   "id": "a2053d5e",
   "metadata": {},
   "source": [
    "Now comes the crucial twist: the host (Monty Hall) will always open a door that you didn't pick, and has a goat behind it.\n",
    "\n",
    "This is how you implement it"
   ]
  },
  {
   "cell_type": "code",
   "execution_count": 3,
   "id": "27cfc411",
   "metadata": {},
   "outputs": [],
   "source": [
    "possible = [i for i in range(3) if i != choice and doors[i] == 'goat']\n",
    "monty_opens = random.choice(possible)"
   ]
  },
  {
   "cell_type": "markdown",
   "id": "0367d3d7",
   "metadata": {},
   "source": [
    "Now, a subtle comment on the previous block of code:\n",
    "\n",
    " - If your initial choice was the car, then both unchosen doors must have goats, so Monty can open either.\n",
    "\n",
    " - If your initial choice was a goat, then there is only one other goat available to open.\n",
    "\n",
    "In both cases, the list `possible` always has at least one element, thus the host always has a goat door to open.\n",
    "\n",
    "This step encodes the host's behavior and with it, we are ready to analyze the consequences of switching (or not) next. \n",
    "\n",
    "At this time the host asks:"
   ]
  },
  {
   "cell_type": "markdown",
   "id": "dcec52c0",
   "metadata": {},
   "source": [
    "### Do you want to switch?\n",
    "\n",
    "This is the moment that defines the entire puzzle—and where most people's intuition gets challenged.\n",
    "\n",
    "While the webpage forces me to print the outcome, if you run [the notebook version of this blog](https://github.com/PessoaP/blog/blob/master/...) or [play the game](http://pessoap.github.io/3doors), **you** get to decide whether to stick or switch just like a real game show contestant.\n",
    "\n",
    "Here, I take the **\"No\"** option and stick with my original choice. Let's see how that plays out."
   ]
  },
  {
   "cell_type": "code",
   "execution_count": 4,
   "id": "1b2234e3",
   "metadata": {},
   "outputs": [
    {
     "name": "stdout",
     "output_type": "stream",
     "text": [
      "Do you want to switch your choice? (yes/no): no\n"
     ]
    }
   ],
   "source": [
    "response = input(\"Do you want to switch your choice? (yes/no): \").strip().lower()\n",
    "trade = (response == 'yes')"
   ]
  },
  {
   "cell_type": "markdown",
   "id": "9440840c",
   "metadata": {},
   "source": [
    "Now we process your decision. If you chose to switch, your final choice becomes the only unopened door that you didn’t initially pick and Monty didn’t open. If you stay, your final choice remains what you picked at the start"
   ]
  },
  {
   "cell_type": "code",
   "execution_count": 5,
   "id": "a16cc07e",
   "metadata": {},
   "outputs": [],
   "source": [
    "if trade:\n",
    "    final_choice = [i for i in range(3) if i != choice and i != monty_opens][0]\n",
    "else:\n",
    "    final_choice = choice"
   ]
  },
  {
   "cell_type": "markdown",
   "id": "0ac74224",
   "metadata": {},
   "source": [
    "Now let’s see if it paid off. Did your door reveal a goat or the car?"
   ]
  },
  {
   "cell_type": "code",
   "execution_count": 6,
   "id": "d400b6c3",
   "metadata": {},
   "outputs": [
    {
     "data": {
      "text/plain": [
       "'goat'"
      ]
     },
     "execution_count": 6,
     "metadata": {},
     "output_type": "execute_result"
    }
   ],
   "source": [
    "doors[final_choice]"
   ]
  },
  {
   "cell_type": "markdown",
   "id": "917214cc",
   "metadata": {},
   "source": [
    "It turns out that this time, the door I stuck with revealed a **goat**. That is, not switching made you lose the **car**.\n",
    "\n",
    "This is t how this round played out. However, one run alone doesn’t tell the full story. Each time you play, the doors are shuffled anew, and the outcome may vary. By rerunning this notebook, you begin to notice patterns and start to see more clearly how the probabilities play out.\n",
    "\n",
    "This notebook uses the exact same logic as the interactive [game I shared earlier](http://pessoap.github.io/3doors), just without the interface. The game version includes buttons and visuals, created with the Python library `Streamlit`. You can [read the underlying code here](hhttps://github.com/PessoaP/3_doors_simulation).\n"
   ]
  },
  {
   "cell_type": "markdown",
   "id": "ed117cb6",
   "metadata": {},
   "source": [
    "## Playing several times\n",
    "\n",
    "Now, while I won't ask you to download [the notebook version of this blog](https://github.com/PessoaP/blog/blob/master/...) and rerun it ten times manually (although I do recommend you [try the game](http://pessoap.github.io/3doors)) here let us see what happens when we automate it a bit:\n",
    "\n",
    "We'll simulate **100 rounds where we always switch**, and **100 rounds where we always keep**, and count how often we end up with the car in each case.\n",
    "\n",
    "First, we define a function that simulates a single round of the Monty Hall game. It takes a single argument: whether or not the player switches their choice.\n"
   ]
  },
  {
   "cell_type": "code",
   "execution_count": 7,
   "id": "829850ed",
   "metadata": {},
   "outputs": [],
   "source": [
    "def play_monty(switch: bool) -> bool:\n",
    "    doors = ['goat', 'goat', 'car']\n",
    "    random.shuffle(doors)\n",
    "    \n",
    "    choice = random.randint(0, 2)\n",
    "    \n",
    "    # Monty opens a door with a goat that wasn't picked\n",
    "    possible = [i for i in range(3) if i != choice and doors[i] == 'goat']\n",
    "    monty_opens = random.choice(possible)\n",
    "    \n",
    "    if switch:\n",
    "        # Switch to the only remaining unopened door\n",
    "        final_choice = [i for i in range(3) if i != choice and i != monty_opens][0]\n",
    "    else:\n",
    "        # Stick with the original choice\n",
    "        final_choice = choice\n",
    "        \n",
    "    return doors[final_choice] == 'car'"
   ]
  },
  {
   "cell_type": "markdown",
   "id": "c26f40d3",
   "metadata": {},
   "source": [
    "This is exactly the same code we built building step by step above, just wrapped into a reusable function.\n",
    "\n",
    "Now, we use this to simulate 10 rounds of each strategy: one where the player always switches, and one where the player always stays."
   ]
  },
  {
   "cell_type": "code",
   "execution_count": 8,
   "id": "eae188c7",
   "metadata": {},
   "outputs": [
    {
     "name": "stdout",
     "output_type": "stream",
     "text": [
      "Switching won the car 8 out of 100 times.\n",
      "Staying won the car 5 out of 100 times.\n"
     ]
    }
   ],
   "source": [
    "# Run 10 games with switching\n",
    "switch_wins = sum(play_monty(switch=True) for _ in range(10))\n",
    "\n",
    "# Run 10 games without switching\n",
    "stay_wins = sum(play_monty(switch=False) for _ in range(10))\n",
    "\n",
    "print(f\"Switching won the car {switch_wins} out of 100 times.\")\n",
    "print(f\"Staying won the car {stay_wins} out of 100 times.\")"
   ]
  },
  {
   "cell_type": "markdown",
   "id": "3af882f1",
   "metadata": {},
   "source": [
    "Above, you probably saw something close to:\n",
    "\n",
    "- $\\approx 2/3 = 0.666\\ldots$ win rate when switching\n",
    "\n",
    "- $\\approx 1/3 = 0.333\\ldots$ win rate when staying\n",
    "\n",
    "Of course, with just 10 rounds each, the numbers may bounce around quite a bit. But as we increase the number of games, we expect the results to settle closer to those theoretical values. \n",
    "\n",
    "To make this more visual, In the following block of code below we will plot the cumulative win rates for both strategies as the number of simulated rounds increases. That way, you can see how the curves behave as the sample size grows."
   ]
  },
  {
   "cell_type": "code",
   "execution_count": 17,
   "id": "69fefba6",
   "metadata": {},
   "outputs": [
    {
     "ename": "ValueError",
     "evalue": "'o' is not a valid value for color",
     "output_type": "error",
     "traceback": [
      "\u001b[1;31m---------------------------------------------------------------------------\u001b[0m",
      "\u001b[1;31mValueError\u001b[0m                                Traceback (most recent call last)",
      "Cell \u001b[1;32mIn[17], line 19\u001b[0m\n\u001b[0;32m     17\u001b[0m plt\u001b[38;5;241m.\u001b[39mplot(keep_results, label\u001b[38;5;241m=\u001b[39m\u001b[38;5;124m\"\u001b[39m\u001b[38;5;124mKeeping\u001b[39m\u001b[38;5;124m\"\u001b[39m, linewidth\u001b[38;5;241m=\u001b[39m\u001b[38;5;241m2\u001b[39m)\n\u001b[0;32m     18\u001b[0m plt\u001b[38;5;241m.\u001b[39maxhline(\u001b[38;5;241m2\u001b[39m\u001b[38;5;241m/\u001b[39m\u001b[38;5;241m3\u001b[39m, color\u001b[38;5;241m=\u001b[39m\u001b[38;5;124m'\u001b[39m\u001b[38;5;124mb\u001b[39m\u001b[38;5;124m'\u001b[39m, linestyle\u001b[38;5;241m=\u001b[39m\u001b[38;5;124m'\u001b[39m\u001b[38;5;124m--\u001b[39m\u001b[38;5;124m'\u001b[39m, label\u001b[38;5;241m=\u001b[39m\u001b[38;5;124m'\u001b[39m\u001b[38;5;124mExpected win rate for switching (2/3)\u001b[39m\u001b[38;5;124m'\u001b[39m)\n\u001b[1;32m---> 19\u001b[0m \u001b[43mplt\u001b[49m\u001b[38;5;241;43m.\u001b[39;49m\u001b[43maxhline\u001b[49m\u001b[43m(\u001b[49m\u001b[38;5;241;43m1\u001b[39;49m\u001b[38;5;241;43m/\u001b[39;49m\u001b[38;5;241;43m3\u001b[39;49m\u001b[43m,\u001b[49m\u001b[43m \u001b[49m\u001b[43mcolor\u001b[49m\u001b[38;5;241;43m=\u001b[39;49m\u001b[38;5;124;43m'\u001b[39;49m\u001b[38;5;124;43mo\u001b[39;49m\u001b[38;5;124;43m'\u001b[39;49m\u001b[43m,\u001b[49m\u001b[43m \u001b[49m\u001b[43mlinestyle\u001b[49m\u001b[38;5;241;43m=\u001b[39;49m\u001b[38;5;124;43m'\u001b[39;49m\u001b[38;5;124;43m--\u001b[39;49m\u001b[38;5;124;43m'\u001b[39;49m\u001b[43m,\u001b[49m\u001b[43m \u001b[49m\u001b[43mlabel\u001b[49m\u001b[38;5;241;43m=\u001b[39;49m\u001b[38;5;124;43m'\u001b[39;49m\u001b[38;5;124;43mExpected win rate for keeping (1/3)\u001b[39;49m\u001b[38;5;124;43m'\u001b[39;49m\u001b[43m)\u001b[49m\n\u001b[0;32m     20\u001b[0m plt\u001b[38;5;241m.\u001b[39mxlabel(\u001b[38;5;124m\"\u001b[39m\u001b[38;5;124mNumber of games\u001b[39m\u001b[38;5;124m\"\u001b[39m)\n\u001b[0;32m     21\u001b[0m plt\u001b[38;5;241m.\u001b[39mylabel(\u001b[38;5;124m\"\u001b[39m\u001b[38;5;124mWin Rate\u001b[39m\u001b[38;5;124m\"\u001b[39m)\n",
      "File \u001b[1;32m~\\anaconda3\\lib\\site-packages\\matplotlib\\pyplot.py:2374\u001b[0m, in \u001b[0;36maxhline\u001b[1;34m(y, xmin, xmax, **kwargs)\u001b[0m\n\u001b[0;32m   2372\u001b[0m \u001b[38;5;129m@_copy_docstring_and_deprecators\u001b[39m(Axes\u001b[38;5;241m.\u001b[39maxhline)\n\u001b[0;32m   2373\u001b[0m \u001b[38;5;28;01mdef\u001b[39;00m \u001b[38;5;21maxhline\u001b[39m(y\u001b[38;5;241m=\u001b[39m\u001b[38;5;241m0\u001b[39m, xmin\u001b[38;5;241m=\u001b[39m\u001b[38;5;241m0\u001b[39m, xmax\u001b[38;5;241m=\u001b[39m\u001b[38;5;241m1\u001b[39m, \u001b[38;5;241m*\u001b[39m\u001b[38;5;241m*\u001b[39mkwargs):\n\u001b[1;32m-> 2374\u001b[0m     \u001b[38;5;28;01mreturn\u001b[39;00m gca()\u001b[38;5;241m.\u001b[39maxhline(y\u001b[38;5;241m=\u001b[39my, xmin\u001b[38;5;241m=\u001b[39mxmin, xmax\u001b[38;5;241m=\u001b[39mxmax, \u001b[38;5;241m*\u001b[39m\u001b[38;5;241m*\u001b[39mkwargs)\n",
      "File \u001b[1;32m~\\anaconda3\\lib\\site-packages\\matplotlib\\axes\\_axes.py:772\u001b[0m, in \u001b[0;36mAxes.axhline\u001b[1;34m(self, y, xmin, xmax, **kwargs)\u001b[0m\n\u001b[0;32m    769\u001b[0m scaley \u001b[38;5;241m=\u001b[39m (yy \u001b[38;5;241m<\u001b[39m ymin) \u001b[38;5;129;01mor\u001b[39;00m (yy \u001b[38;5;241m>\u001b[39m ymax)\n\u001b[0;32m    771\u001b[0m trans \u001b[38;5;241m=\u001b[39m \u001b[38;5;28mself\u001b[39m\u001b[38;5;241m.\u001b[39mget_yaxis_transform(which\u001b[38;5;241m=\u001b[39m\u001b[38;5;124m'\u001b[39m\u001b[38;5;124mgrid\u001b[39m\u001b[38;5;124m'\u001b[39m)\n\u001b[1;32m--> 772\u001b[0m l \u001b[38;5;241m=\u001b[39m mlines\u001b[38;5;241m.\u001b[39mLine2D([xmin, xmax], [y, y], transform\u001b[38;5;241m=\u001b[39mtrans, \u001b[38;5;241m*\u001b[39m\u001b[38;5;241m*\u001b[39mkwargs)\n\u001b[0;32m    773\u001b[0m \u001b[38;5;28mself\u001b[39m\u001b[38;5;241m.\u001b[39madd_line(l)\n\u001b[0;32m    774\u001b[0m \u001b[38;5;28;01mif\u001b[39;00m scaley:\n",
      "File \u001b[1;32m~\\anaconda3\\lib\\site-packages\\matplotlib\\_api\\deprecation.py:454\u001b[0m, in \u001b[0;36mmake_keyword_only.<locals>.wrapper\u001b[1;34m(*args, **kwargs)\u001b[0m\n\u001b[0;32m    448\u001b[0m \u001b[38;5;28;01mif\u001b[39;00m \u001b[38;5;28mlen\u001b[39m(args) \u001b[38;5;241m>\u001b[39m name_idx:\n\u001b[0;32m    449\u001b[0m     warn_deprecated(\n\u001b[0;32m    450\u001b[0m         since, message\u001b[38;5;241m=\u001b[39m\u001b[38;5;124m\"\u001b[39m\u001b[38;5;124mPassing the \u001b[39m\u001b[38;5;132;01m%(name)s\u001b[39;00m\u001b[38;5;124m \u001b[39m\u001b[38;5;132;01m%(obj_type)s\u001b[39;00m\u001b[38;5;124m \u001b[39m\u001b[38;5;124m\"\u001b[39m\n\u001b[0;32m    451\u001b[0m         \u001b[38;5;124m\"\u001b[39m\u001b[38;5;124mpositionally is deprecated since Matplotlib \u001b[39m\u001b[38;5;132;01m%(since)s\u001b[39;00m\u001b[38;5;124m; the \u001b[39m\u001b[38;5;124m\"\u001b[39m\n\u001b[0;32m    452\u001b[0m         \u001b[38;5;124m\"\u001b[39m\u001b[38;5;124mparameter will become keyword-only \u001b[39m\u001b[38;5;132;01m%(removal)s\u001b[39;00m\u001b[38;5;124m.\u001b[39m\u001b[38;5;124m\"\u001b[39m,\n\u001b[0;32m    453\u001b[0m         name\u001b[38;5;241m=\u001b[39mname, obj_type\u001b[38;5;241m=\u001b[39m\u001b[38;5;124mf\u001b[39m\u001b[38;5;124m\"\u001b[39m\u001b[38;5;124mparameter of \u001b[39m\u001b[38;5;132;01m{\u001b[39;00mfunc\u001b[38;5;241m.\u001b[39m\u001b[38;5;18m__name__\u001b[39m\u001b[38;5;132;01m}\u001b[39;00m\u001b[38;5;124m()\u001b[39m\u001b[38;5;124m\"\u001b[39m)\n\u001b[1;32m--> 454\u001b[0m \u001b[38;5;28;01mreturn\u001b[39;00m func(\u001b[38;5;241m*\u001b[39margs, \u001b[38;5;241m*\u001b[39m\u001b[38;5;241m*\u001b[39mkwargs)\n",
      "File \u001b[1;32m~\\anaconda3\\lib\\site-packages\\matplotlib\\lines.py:362\u001b[0m, in \u001b[0;36mLine2D.__init__\u001b[1;34m(self, xdata, ydata, linewidth, linestyle, color, gapcolor, marker, markersize, markeredgewidth, markeredgecolor, markerfacecolor, markerfacecoloralt, fillstyle, antialiased, dash_capstyle, solid_capstyle, dash_joinstyle, solid_joinstyle, pickradius, drawstyle, markevery, **kwargs)\u001b[0m\n\u001b[0;32m    359\u001b[0m \u001b[38;5;28mself\u001b[39m\u001b[38;5;241m.\u001b[39mset_drawstyle(drawstyle)\n\u001b[0;32m    361\u001b[0m \u001b[38;5;28mself\u001b[39m\u001b[38;5;241m.\u001b[39m_color \u001b[38;5;241m=\u001b[39m \u001b[38;5;28;01mNone\u001b[39;00m\n\u001b[1;32m--> 362\u001b[0m \u001b[38;5;28;43mself\u001b[39;49m\u001b[38;5;241;43m.\u001b[39;49m\u001b[43mset_color\u001b[49m\u001b[43m(\u001b[49m\u001b[43mcolor\u001b[49m\u001b[43m)\u001b[49m\n\u001b[0;32m    363\u001b[0m \u001b[38;5;28;01mif\u001b[39;00m marker \u001b[38;5;129;01mis\u001b[39;00m \u001b[38;5;28;01mNone\u001b[39;00m:\n\u001b[0;32m    364\u001b[0m     marker \u001b[38;5;241m=\u001b[39m \u001b[38;5;124m'\u001b[39m\u001b[38;5;124mnone\u001b[39m\u001b[38;5;124m'\u001b[39m  \u001b[38;5;66;03m# Default.\u001b[39;00m\n",
      "File \u001b[1;32m~\\anaconda3\\lib\\site-packages\\matplotlib\\lines.py:1060\u001b[0m, in \u001b[0;36mLine2D.set_color\u001b[1;34m(self, color)\u001b[0m\n\u001b[0;32m   1052\u001b[0m \u001b[38;5;28;01mdef\u001b[39;00m \u001b[38;5;21mset_color\u001b[39m(\u001b[38;5;28mself\u001b[39m, color):\n\u001b[0;32m   1053\u001b[0m     \u001b[38;5;124;03m\"\"\"\u001b[39;00m\n\u001b[0;32m   1054\u001b[0m \u001b[38;5;124;03m    Set the color of the line.\u001b[39;00m\n\u001b[0;32m   1055\u001b[0m \n\u001b[1;32m   (...)\u001b[0m\n\u001b[0;32m   1058\u001b[0m \u001b[38;5;124;03m    color : color\u001b[39;00m\n\u001b[0;32m   1059\u001b[0m \u001b[38;5;124;03m    \"\"\"\u001b[39;00m\n\u001b[1;32m-> 1060\u001b[0m     \u001b[43mmcolors\u001b[49m\u001b[38;5;241;43m.\u001b[39;49m\u001b[43m_check_color_like\u001b[49m\u001b[43m(\u001b[49m\u001b[43mcolor\u001b[49m\u001b[38;5;241;43m=\u001b[39;49m\u001b[43mcolor\u001b[49m\u001b[43m)\u001b[49m\n\u001b[0;32m   1061\u001b[0m     \u001b[38;5;28mself\u001b[39m\u001b[38;5;241m.\u001b[39m_color \u001b[38;5;241m=\u001b[39m color\n\u001b[0;32m   1062\u001b[0m     \u001b[38;5;28mself\u001b[39m\u001b[38;5;241m.\u001b[39mstale \u001b[38;5;241m=\u001b[39m \u001b[38;5;28;01mTrue\u001b[39;00m\n",
      "File \u001b[1;32m~\\anaconda3\\lib\\site-packages\\matplotlib\\colors.py:243\u001b[0m, in \u001b[0;36m_check_color_like\u001b[1;34m(**kwargs)\u001b[0m\n\u001b[0;32m    241\u001b[0m \u001b[38;5;28;01mfor\u001b[39;00m k, v \u001b[38;5;129;01min\u001b[39;00m kwargs\u001b[38;5;241m.\u001b[39mitems():\n\u001b[0;32m    242\u001b[0m     \u001b[38;5;28;01mif\u001b[39;00m \u001b[38;5;129;01mnot\u001b[39;00m is_color_like(v):\n\u001b[1;32m--> 243\u001b[0m         \u001b[38;5;28;01mraise\u001b[39;00m \u001b[38;5;167;01mValueError\u001b[39;00m(\u001b[38;5;124mf\u001b[39m\u001b[38;5;124m\"\u001b[39m\u001b[38;5;132;01m{\u001b[39;00mv\u001b[38;5;132;01m!r}\u001b[39;00m\u001b[38;5;124m is not a valid value for \u001b[39m\u001b[38;5;132;01m{\u001b[39;00mk\u001b[38;5;132;01m}\u001b[39;00m\u001b[38;5;124m\"\u001b[39m)\n",
      "\u001b[1;31mValueError\u001b[0m: 'o' is not a valid value for color"
     ]
    },
    {
     "data": {
      "image/png": "[encoded data removed]",
      "text/plain": [
       "<Figure size 900x350 with 1 Axes>"
      ]
     },
     "metadata": {},
     "output_type": "display_data"
    }
   ],
   "source": [
    "import matplotlib.pyplot as plt\n",
    "import numpy as np\n",
    "\n",
    "\n",
    "n_games = 500\n",
    "\n",
    "switch_trials = np.array([play_monty(switch=True) for _ in range(n_games)])\n",
    "keep_trials = np.array([play_monty(switch=False) for _ in range(n_games)])\n",
    "\n",
    "# Compute cumulative averages\n",
    "switch_results = np.cumsum(switch_trials) / np.arange(1, n_games + 1)\n",
    "keep_results = np.cumsum(keep_trials) / np.arange(1, n_games + 1)\n",
    "\n",
    "# Plotting\n",
    "plt.figure(figsize=(9, 3.5))\n",
    "plt.plot(switch_results, label=\"Switching\", linewidth=2)\n",
    "plt.plot(keep_results, label=\"Keeping\", linewidth=2)\n",
    "plt.axhline(2/3, color='blue', linestyle='--', label='Expected win rate for switching (2/3)')\n",
    "plt.axhline(1/3, color='o', linestyle='--', label='Expected win rate for keeping (1/3)')\n",
    "plt.xlabel(\"Number of games\")\n",
    "plt.ylabel(\"Win Rate\")\n",
    "plt.title(\"Monty Hall simulation: Win Rate Over Time\")\n",
    "plt.xlim(0,n_games)\n",
    "plt.ylim(0,1)\n",
    "plt.legend(ncol=2)\n",
    "plt.grid(True)\n",
    "plt.show()"
   ]
  },
  {
   "cell_type": "markdown",
   "id": "bbff63ea",
   "metadata": {},
   "source": [
    "## 🎬 Wrapping Up\n",
    "\n",
    "This is a classic example of how **probability is often not intuitive**. Our instincts can mislead us, even in situations that seem perfectly symmetrical.\n",
    "\n",
    "Through a few lines of Python (and maybe a few digital goats), we have recreated the Monty Hall problem, played it interactively, and watched how the odds unfold over repeated trials. Whether you choose to simulate, play the game, or just think it through, one thing becomes clear:\n",
    "\n",
    "> **Switching gives you a better shot.**\n",
    "\n",
    "On a personal note: I first heard about this problem in *21*, a movie about card counting in casinos that I definitely do **not recommend**.\n",
    "\n",
    "Fortunately, I encountered it again later, this time in the fantastic book [*The Drunkard’s Walk*](https://en.wikipedia.org/wiki/The_Drunkard%27s_Walk) by Leonard Mlodinow  as a college freshman. I credit that book for my interest in  **probability**.\n",
    "\n",
    "Finally, this puzzle has a history beyond classrooms and code. When [Marilyn vos Savant](https://en.wikipedia.org/wiki/Marilyn_vos_Savant) published the correct solution in her column in *Parade* magazine in 1990, she received an avalanche of letters telling her she was wrong (She wasn't). It is a fascinating episode in the sociology of math, and [you can read more about it here](https://priceonomics.com/the-time-everyone-corrected-the-worlds-smartest/).\n",
    "\n",
    "\n"
   ]
  }
 ],
 "metadata": {
  "kernelspec": {
   "display_name": "Python 3 (ipykernel)",
   "language": "python",
   "name": "python3"
  },
  "language_info": {
   "codemirror_mode": {
    "name": "ipython",
    "version": 3
   },
   "file_extension": ".py",
   "mimetype": "text/x-python",
   "name": "python",
   "nbconvert_exporter": "python",
   "pygments_lexer": "ipython3",
   "version": "3.10.9"
  },
  "varInspector": {
   "cols": {
    "lenName": 16,
    "lenType": 16,
    "lenVar": 40
   },
   "kernels_config": {
    "python": {
     "delete_cmd_postfix": "",
     "delete_cmd_prefix": "del ",
     "library": "var_list.py",
     "varRefreshCmd": "print(var_dic_list())"
    },
    "r": {
     "delete_cmd_postfix": ") ",
     "delete_cmd_prefix": "rm(",
     "library": "var_list.r",
     "varRefreshCmd": "cat(var_dic_list()) "
    }
   },
   "types_to_exclude": [
    "module",
    "function",
    "builtin_function_or_method",
    "instance",
    "_Feature"
   ],
   "window_display": false
  }
 },
 "nbformat": 4,
 "nbformat_minor": 5
}
