{
 "cells": [
  {
   "cell_type": "markdown",
   "id": "e595a7ef",
   "metadata": {},
   "source": [
    "# The Monty Hall (or 3 doors) Problem"
   ]
  },
  {
   "cell_type": "markdown",
   "id": "6c644b7d",
   "metadata": {},
   "source": [
    "A classic problem that puzzles most who have studied probability is the Monty Hall problem, whose statement is deceptively simple:\n",
    "\n",
    "   - You are on a game show. The host offers you the choice of three doors.\n",
    "\n",
    "   - Behind one door is a brand-new car; behind the other two are goats.\n",
    "\n",
    "   - You pick one door.\n",
    "\n",
    "   - The host, who knows what's behind each door, opens another door, revealing a goat.\n",
    "\n",
    "   - The host then asks: “Do you want to switch?”\n",
    "\n",
    "Assuming you want to win the car, what should you do?\n",
    "\n",
    "<span style=\"color: red\"> FIGURE </span>"
   ]
  },
  {
   "cell_type": "markdown",
   "id": "5c07176d",
   "metadata": {},
   "source": [
    "\n",
    "This problem is named after [Monty Hall](https://en.wikipedia.org/wiki/Monty_Hall), the original host of the TV show [*Let’s Make a Deal*](https://en.wikipedia.org/wiki/Let%27s_Make_a_Deal), who frequently ran versions of this game on air.\n",
    "\n",
    "To experience this dilemma firsthand, I’ve created a [simple game](http://pessoap.github.io/3doors) that lets you play through the Monty Hall problem **just like a real contestant**.\n",
    "\n",
    "At first glance, many people assume it does not matter whether you switch. With two doors left, it is a 50/50 chance.\n",
    "\n",
    "It’s not. That intuition is misleading. In reality, **you should switch**."
   ]
  },
  {
   "cell_type": "markdown",
   "id": "959ea5ab",
   "metadata": {},
   "source": [
    "## Why?\n",
    "\n",
    "After discussing this puzzle with many people from a wide range of backgrounds, I have found that the following short argument tends to be quite convincing:\n",
    "\n",
    "- The probability that you initially picked the door hiding the car is 1/3.\n",
    "- Thus, the probability that you picked a door hiding a goat is 2/3.\n",
    "- **If you picked a goat** (probability 2/3), the host reveals the other goat, and the remaining door must hide the car. **So, if you switch, you win; if you keep, you lose**.    \n",
    "- Conversely, **if you initially picked the car** (1/3), **switching causes you to lose** and keep makes you win.\n",
    "- **Therefore, if you switch, your probability of winning is 2/3; if you don t, it is 1/3**.\n",
    "\n",
    "Switching is clearly the better strategy.\n",
    "\n",
    "<span style=\"color: red\"> FIGURE </span>"
   ]
  },
  {
   "cell_type": "markdown",
   "id": "953c0c43",
   "metadata": {},
   "source": [
    "## If you are not convinced\n",
    "If you're not convinced, you're not alone. As the story goes, even the highly respected mathematician [Paul Erdős](https://pt.wikipedia.org/wiki/Paul_Erd%C5%91s) initially refused to accept the correct solution. He only changed his mind after seeing the results of a computer simulation that consistently showed switching wins about two-thirds of the time.\n",
    "\n",
    "That is exactly what I intended to provide with the [game I have just made](http://pessoap.github.io/3doors).\n",
    "\n",
    "If you play the game multiple times, you’ll notice that switching consistently leads to better outcomes (two wins out of every three tries).\n",
    "\n",
    "However, if you suspect I have somehow biased the game in favor of switching, rest assured: [the code is available on Github](https://github.com/PessoaP/3_doors_simulation), and in the remainder of this blog post, I will walk you through exactly how it works."
   ]
  },
  {
   "cell_type": "markdown",
   "id": "1b2b05d5",
   "metadata": {},
   "source": [
    "## Simulating a single round\n",
    "\n",
    "### Setup\n",
    "Let us set up a single round of the Monty Hall problem in Python. We start by creating the three doors: two hide goats, one hides a car."
   ]
  },
  {
   "cell_type": "code",
   "execution_count": 1,
   "id": "a9d63ecb",
   "metadata": {},
   "outputs": [],
   "source": [
    "import random\n",
    "\n",
    "doors = ['goat', 'goat', 'car']\n",
    "random.shuffle(doors)"
   ]
  },
  {
   "cell_type": "markdown",
   "id": "04b8b9cb",
   "metadata": {},
   "source": [
    "Now, the `shuffle` happens behind the scenes, and as the player, you do not know where the car is (only your Python interpreter does). All you see are three closed doors, identical in appearance.\n",
    "\n",
    "So when you make your initial choice:"
   ]
  },
  {
   "cell_type": "code",
   "execution_count": 2,
   "id": "b229b57f",
   "metadata": {},
   "outputs": [],
   "source": [
    "choice = 1"
   ]
  },
  {
   "cell_type": "markdown",
   "id": "f5796b0c",
   "metadata": {},
   "source": [
    "I am leaving the variable `choice` as 1 by default, but you can change it by running [this blog post as a python notebook](https://github.com/PessoaP/blog/blob/master/...)  on my GitHub.\n",
    "\n",
    "That being said, this choice does not affect the overall probabilities. Since the car was placed randomly, each door has a probability 1/3 of hiding it. Your initial pick is a blind guess."
   ]
  },
  {
   "cell_type": "markdown",
   "id": "04dea2e9",
   "metadata": {},
   "source": [
    "Now comes the crucial twist: the host (Monty Hall) will always open a door that you didn't pick, and has a goat behind it.\n",
    "\n",
    "This is how you implement it"
   ]
  },
  {
   "cell_type": "code",
   "execution_count": 3,
   "id": "c05afaa0",
   "metadata": {},
   "outputs": [],
   "source": [
    "possible = [i for i in range(3) if i != choice and doors[i] == 'goat']\n",
    "monty_opens = random.choice(possible)"
   ]
  },
  {
   "cell_type": "markdown",
   "id": "322d65f9",
   "metadata": {},
   "source": [
    "Now, a subtle comment on the previous block of code:\n",
    "\n",
    " - If your initial choice was the car, then both unchosen doors must have goats, so Monty can open either.\n",
    "\n",
    " - If your initial choice was a goat, then there is only one other goat available to open.\n",
    "\n",
    "In both cases, the list `possible` always has at least one element, thus the host always has a goat door to open.\n",
    "\n",
    "This step encodes the host's behavior and with it, we are ready to analyze the consequences of switching (or not) next. \n",
    "\n",
    "At this time the host asks:"
   ]
  },
  {
   "cell_type": "markdown",
   "id": "fb66156e",
   "metadata": {},
   "source": [
    "### Do you want to switch?\n",
    "\n",
    "This is the moment that defines the entire puzzle—and where most people's intuition gets challenged.\n",
    "\n",
    "While the webpage forces me to print the outcome, if you run [the notebook version of this blog](https://github.com/PessoaP/blog/blob/master/...) or [play the game](http://pessoap.github.io/3doors), **you** get to decide whether to stick or switch just like a real game show contestant.\n",
    "\n",
    "Here, I take the **\"No\"** option and stick with my original choice. Let's see how that plays out."
   ]
  },
  {
   "cell_type": "code",
   "execution_count": 4,
   "id": "f96f0562",
   "metadata": {},
   "outputs": [
    {
     "name": "stdout",
     "output_type": "stream",
     "text": [
      "Do you want to switch your choice? (yes/no): no\n"
     ]
    }
   ],
   "source": [
    "response = input(\"Do you want to switch your choice? (yes/no): \").strip().lower()\n",
    "trade = (response == 'yes')"
   ]
  },
  {
   "cell_type": "markdown",
   "id": "abb9bfc1",
   "metadata": {},
   "source": [
    "Now we process your decision. If you chose to switch, your final choice becomes the only unopened door that you didn’t initially pick and Monty didn’t open. If you stay, your final choice remains what you picked at the start"
   ]
  },
  {
   "cell_type": "code",
   "execution_count": 5,
   "id": "d4ecb60c",
   "metadata": {},
   "outputs": [],
   "source": [
    "if trade:\n",
    "    final_choice = [i for i in range(3) if i != choice and i != monty_opens][0]\n",
    "else:\n",
    "    final_choice = choice"
   ]
  },
  {
   "cell_type": "markdown",
   "id": "52eb5f99",
   "metadata": {},
   "source": [
    "Now let’s see if it paid off. Did your door reveal a goat or the car?"
   ]
  },
  {
   "cell_type": "code",
   "execution_count": 6,
   "id": "4c3e59fc",
   "metadata": {},
   "outputs": [
    {
     "data": {
      "text/plain": [
       "'goat'"
      ]
     },
     "execution_count": 6,
     "metadata": {},
     "output_type": "execute_result"
    }
   ],
   "source": [
    "doors[final_choice]"
   ]
  },
  {
   "cell_type": "markdown",
   "id": "1a10d5a7",
   "metadata": {},
   "source": [
    "It turns out that this time, the door I stuck with revealed a **goat**. That is, not switching made you lose the **car**.\n",
    "\n",
    "This is t how this round played out. However, one run alone doesn’t tell the full story. Each time you play, the doors are shuffled anew, and the outcome may vary. By rerunning this notebook, you begin to notice patterns and start to see more clearly how the probabilities play out.\n",
    "\n",
    "This notebook uses the exact same logic as the interactive [game I shared earlier](http://pessoap.github.io/3doors), just without the interface. The game version includes buttons and visuals, created with the Python library `Streamlit`. You can [read the underlying code here](hhttps://github.com/PessoaP/3_doors_simulation).\n"
   ]
  },
  {
   "cell_type": "markdown",
   "id": "ff6d269c",
   "metadata": {},
   "source": [
    "## Playing several times\n",
    "\n",
    "Now, while I won't ask you to download [the notebook version of this blog](https://github.com/PessoaP/blog/blob/master/...) and rerun it ten times manually (although I do recommend you [try the game](http://pessoap.github.io/3doors)) here let us see what happens when we automate it a bit:\n",
    "\n",
    "We'll simulate **100 rounds where we always switch**, and **100 rounds where we always keep**, and count how often we end up with the car in each case.\n",
    "\n",
    "First, we define a function that simulates a single round of the Monty Hall game. It takes a single argument: whether or not the player switches their choice.\n"
   ]
  },
  {
   "cell_type": "code",
   "execution_count": 7,
   "id": "2c88c660",
   "metadata": {},
   "outputs": [],
   "source": [
    "def play_monty(switch: bool) -> bool:\n",
    "    doors = ['goat', 'goat', 'car']\n",
    "    random.shuffle(doors)\n",
    "    \n",
    "    choice = random.randint(0, 2)\n",
    "    \n",
    "    # Monty opens a door with a goat that wasn't picked\n",
    "    possible = [i for i in range(3) if i != choice and doors[i] == 'goat']\n",
    "    monty_opens = random.choice(possible)\n",
    "    \n",
    "    if switch:\n",
    "        # Switch to the only remaining unopened door\n",
    "        final_choice = [i for i in range(3) if i != choice and i != monty_opens][0]\n",
    "    else:\n",
    "        # Stick with the original choice\n",
    "        final_choice = choice\n",
    "        \n",
    "    return doors[final_choice] == 'car'"
   ]
  },
  {
   "cell_type": "markdown",
   "id": "7544d96c",
   "metadata": {},
   "source": [
    "This is exactly the same code we built building step by step above, just wrapped into a reusable function.\n",
    "\n",
    "Now, we use this to simulate 10 rounds of each strategy: one where the player always switches, and one where the player always stays."
   ]
  },
  {
   "cell_type": "code",
   "execution_count": 8,
   "id": "f1778490",
   "metadata": {},
   "outputs": [
    {
     "name": "stdout",
     "output_type": "stream",
     "text": [
      "Switching won the car 5 out of 100 times.\n",
      "Staying won the car 6 out of 100 times.\n"
     ]
    }
   ],
   "source": [
    "# Run 10 games with switching\n",
    "switch_wins = sum(play_monty(switch=True) for _ in range(10))\n",
    "\n",
    "# Run 10 games without switching\n",
    "stay_wins = sum(play_monty(switch=False) for _ in range(10))\n",
    "\n",
    "print(f\"Switching won the car {switch_wins} out of 100 times.\")\n",
    "print(f\"Staying won the car {stay_wins} out of 100 times.\")"
   ]
  },
  {
   "cell_type": "markdown",
   "id": "a0bef623",
   "metadata": {},
   "source": [
    "Above, you probably saw something close to:\n",
    "\n",
    "- $\\approx 2/3 = 0.666\\ldots$ win rate when switching\n",
    "\n",
    "- $\\approx 1/3 = 0.333\\ldots$ win rate when staying\n",
    "\n",
    "Of course, with just 10 rounds each, the numbers may bounce around quite a bit. But as we increase the number of games, we expect the results to settle closer to those theoretical values. \n",
    "\n",
    "To make this more visual, In the following block of code below we will plot the cumulative win rates for both strategies as the number of simulated rounds increases. That way, you can see how the curves behave as the sample size grows."
   ]
  },
  {
   "cell_type": "code",
   "execution_count": 9,
   "id": "3c40a23c",
   "metadata": {},
   "outputs": [
    {
     "data": {
      "image/png": "[encoded data removed]",
      "text/plain": [
       "<Figure size 900x350 with 1 Axes>"
      ]
     },
     "metadata": {},
     "output_type": "display_data"
    }
   ],
   "source": [
    "import matplotlib.pyplot as plt\n",
    "import numpy as np\n",
    "\n",
    "\n",
    "n_games = 1000\n",
    "\n",
    "switch_trials = np.array([play_monty(switch=True) for _ in range(n_games)])\n",
    "keep_trials = np.array([play_monty(switch=False) for _ in range(n_games)])\n",
    "\n",
    "# Compute cumulative averages\n",
    "switch_results = np.cumsum(switch_trials) / np.arange(1, n_games + 1)\n",
    "keep_results = np.cumsum(keep_trials) / np.arange(1, n_games + 1)\n",
    "\n",
    "# Plotting\n",
    "plt.figure(figsize=(9, 3.5))\n",
    "plt.plot(switch_results, label=\"Switching\", linewidth=2)\n",
    "plt.plot(keep_results, label=\"Keeping\", linewidth=2)\n",
    "plt.axhline(2/3, color='blue', linestyle='--', label='Expected win rate for switching (2/3)')\n",
    "plt.axhline(1/3, color='orange', linestyle='--', label='Expected win rate for keeping (1/3)')\n",
    "plt.xlabel(\"Number of games\")\n",
    "plt.ylabel(\"Win Rate\")\n",
    "plt.title(\"Monty Hall simulation: Win Rate Over Time\")\n",
    "plt.xlim(0,n_games)\n",
    "plt.ylim(0,1)\n",
    "plt.legend(ncol=2)\n",
    "plt.grid(True)\n",
    "plt.show()"
   ]
  },
  {
   "cell_type": "markdown",
   "id": "f9515daa",
   "metadata": {},
   "source": [
    "## 🎬 Wrapping Up\n",
    "\n",
    "This is a classic example of how **probability is often not intuitive**. Our instincts can mislead us, even in situations that seem perfectly symmetrical.\n",
    "\n",
    "Through a few lines of Python (and maybe a few digital goats), we have recreated the Monty Hall problem, played it interactively, and watched how the odds unfold over repeated trials. Whether you choose to simulate, play the game, or just think it through, one thing becomes clear:\n",
    "\n",
    "> **Switching gives you a better shot.**\n",
    "\n",
    "On a personal note: I first heard about this problem in *21*, a movie about card counting in casinos that I definitely do **not recommend**.\n",
    "\n",
    "Fortunately, I encountered it again later, this time in the fantastic book [*The Drunkard’s Walk*](https://en.wikipedia.org/wiki/The_Drunkard%27s_Walk) by Leonard Mlodinow  as a college freshman. I credit that book for my interest in  **probability**.\n",
    "\n",
    "Finally, this puzzle has a history beyond classrooms and code. When [Marilyn vos Savant](https://en.wikipedia.org/wiki/Marilyn_vos_Savant) published the correct solution in her column in *Parade* magazine in 1990, she received an avalanche of letters telling her she was wrong (She wasn't). It is a fascinating episode in the sociology of math, and [you can read more about it here](https://priceonomics.com/the-time-everyone-corrected-the-worlds-smartest/).\n",
    "\n",
    "\n"
   ]
  }
 ],
 "metadata": {
  "kernelspec": {
   "display_name": "Python 3 (ipykernel)",
   "language": "python",
   "name": "python3"
  },
  "language_info": {
   "codemirror_mode": {
    "name": "ipython",
    "version": 3
   },
   "file_extension": ".py",
   "mimetype": "text/x-python",
   "name": "python",
   "nbconvert_exporter": "python",
   "pygments_lexer": "ipython3",
   "version": "3.10.9"
  },
  "varInspector": {
   "cols": {
    "lenName": 16,
    "lenType": 16,
    "lenVar": 40
   },
   "kernels_config": {
    "python": {
     "delete_cmd_postfix": "",
     "delete_cmd_prefix": "del ",
     "library": "var_list.py",
     "varRefreshCmd": "print(var_dic_list())"
    },
    "r": {
     "delete_cmd_postfix": ") ",
     "delete_cmd_prefix": "rm(",
     "library": "var_list.r",
     "varRefreshCmd": "cat(var_dic_list()) "
    }
   },
   "types_to_exclude": [
    "module",
    "function",
    "builtin_function_or_method",
    "instance",
    "_Feature"
   ],
   "window_display": false
  }
 },
 "nbformat": 4,
 "nbformat_minor": 5
}
