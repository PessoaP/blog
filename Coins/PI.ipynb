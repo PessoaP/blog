{
 "cells": [
  {
   "cell_type": "markdown",
   "id": "21ba9086",
   "metadata": {},
   "source": [
    "# Bayesian PI.\n",
    "\n",
    "## Introduction\n",
    "\n",
    "\n",
    "While I usually prefer the Day/Month/Year calendar format, I have to admit that the Month/Day/Year format offers something unique: it gives us 3/14, [officially recognized as $\\pi$ day by the United States](https://en.wikisource.org/wiki/H._RES._224_Supporting_the_designation_of_Pi_Day,_and_for_other_purposes) and [Belize](https://www.scientificamerican.com/blog/observations/american-pi-why-the-day-belongs-to-the-u-s-and-belize/).\n",
    "\n",
    "A common tutorial example in sampling/Monte Carlo methods is the estimation of $\\pi$. \n",
    "\n",
    "These examples typically involve running many simulations, generating random points, and calculating how often they fall within a circle. It is then shown that, on average, the result approximates the real value of $\\pi$. \n",
    "\n",
    "However, these approaches often stop at point estimation and, at best, showing that multiple independent simulations concentrate around the real $\\pi$  rather than providing a formal quantification of uncertainty. Naturally, this brings us to the question of uncertainty quantification, how confident are we in our estimate of  at any given point? This what Bayesian statistics  can tell you.\n",
    "\n",
    "This is where **Bayesian statistics** comes in. Instead of treating our estimate as a single number, Bayesian inference allows us to compute a probability distribution over possible values of $\\pi$. **This approach lets us quantify how confident we are of our estimate**\n",
    "\n",
    "This post extends that approach by applying Bayesian reasoning to the estimation of $\\pi$. [Just as I previously used Bayesian inference to assess bias in coin flips](https://labpresse.com/why-do-we-need-bayesian-statistics-part-i-asserting-if-a-coin-is-biased-tutorial/), here we will construct confidence intervals for  that update dynamically as more data becomes available, providing a structured way to quantify uncertainty in our estimates.\n",
    "\n"
   ]
  },
  {
   "cell_type": "markdown",
   "id": "59d14b9c",
   "metadata": {},
   "source": [
    "Before starting, let us import relevant libraries and set a reproducible seed. In order to celebrate $\\pi$ day, the ideal seed would be $\\pi$ itself.\n",
    "Unfortunately in `numpy` seeds need to be integers. Let us settle with a number written from all $\\pi$ digits that I can remember off the top of my head."
   ]
  },
  {
   "cell_type": "code",
   "execution_count": 1,
   "id": "3e610d65",
   "metadata": {},
   "outputs": [],
   "source": [
    "import numpy as np\n",
    "from matplotlib import pyplot as plt\n",
    "np.random.seed(314159)"
   ]
  },
  {
   "cell_type": "markdown",
   "id": "717ebe2e",
   "metadata": {},
   "source": [
    "# Sampling $\\pi$\n",
    "We sample random points uniformly inside a square and check whether they fall inside a circle of radius 1."
   ]
  },
  {
   "cell_type": "code",
   "execution_count": 2,
   "id": "8792e34e",
   "metadata": {},
   "outputs": [],
   "source": [
    "x = np.random.uniform(-1,1,10000)\n",
    "y = np.random.uniform(-1,1,10000)\n",
    "rho = np.sqrt(x**2+y**2)\n",
    "success = rho<1"
   ]
  },
  {
   "cell_type": "markdown",
   "id": "15e0bd19",
   "metadata": {},
   "source": [
    "Here, `success` is a boolean array where True indicates that a sampled point falls inside the circle.  \n",
    "\n",
    "The reasoning is that  area of the unit circle (radius = 1) is $\\pi$, while the area of the square $[−1,1]×[−1,1]$ is 4. Thus, the probability of a uniformly sampled point falling inside the circle is ratio of these areas, i.e., $\\pi/4$. \n"
   ]
  },
  {
   "cell_type": "markdown",
   "id": "2d62818d",
   "metadata": {},
   "source": [
    "$$\\frac{\\pi}{4} \\approx \\frac{\\text{\\textcolor{green}{Points Inside Circle}}}{\\text{Total Points}}$$"
   ]
  },
  {
   "cell_type": "code",
   "execution_count": 3,
   "id": "8313406b",
   "metadata": {},
   "outputs": [
    {
     "data": {
      "image/png": "[encoded data removed]",
      "text/plain": [
       "<Figure size 320x350 with 1 Axes>"
      ]
     },
     "metadata": {},
     "output_type": "display_data"
    }
   ],
   "source": [
    "def plot_square(ax,N):\n",
    "\n",
    "    ax.scatter(x[:N][success[:N]], y[:N][success[:N]], color='darkgreen', label=\"Success\")\n",
    "    ax.scatter(x[:N][~success[:N]], y[:N][~success[:N]], color='red', marker='x', label=\"Failure\")\n",
    "\n",
    "    # Force square aspect ratio\n",
    "    ax.set_aspect('equal')\n",
    "\n",
    "    # Set tight boundaries for ax[0]\n",
    "    ax.set_xlim(-1, 1)\n",
    "    ax.set_ylim(-1, 1)\n",
    "\n",
    "    # Set ticks only at {0, 0.5, 1}\n",
    "    ax.set_xticks([-1, 0, 1])\n",
    "    ax.set_yticks([-1, 0, 1])\n",
    "\n",
    "    theta = np.linspace(0, 2*np.pi, 100)  # Angles from 0 to π\n",
    "    ax.plot(np.cos(theta), np.sin(theta), 'k-', linewidth=2, label=\"Circle\")    \n",
    "\n",
    "\n",
    "fig, ax = plt.subplots(1, 1, figsize=(3.2, 3.5))\n",
    "\n",
    "plot_square(ax, 25)\n",
    "\n",
    "plt.tight_layout()\n",
    "plt.savefig('circle',dpi=600)\n",
    "plt.show()"
   ]
  },
  {
   "cell_type": "markdown",
   "id": "1a22a8ac",
   "metadata": {},
   "source": [
    "Let us test this. That would mean that the `mean` of `sucess` would be approximately $\\pi$. In `numpy`, True is treated as 1, and False is treated as 0 in numerical operations. This means that when we take the mean of the success array, we are  computing the fraction of points where `sucess` is True, or the fraction of points that landed inside the circle:"
   ]
  },
  {
   "cell_type": "code",
   "execution_count": 4,
   "id": "b545c527",
   "metadata": {},
   "outputs": [
    {
     "data": {
      "text/plain": [
       "3.1332"
      ]
     },
     "execution_count": 4,
     "metadata": {},
     "output_type": "execute_result"
    }
   ],
   "source": [
    "4*success.mean()"
   ]
  },
  {
   "cell_type": "markdown",
   "id": "d17c7885",
   "metadata": {},
   "source": [
    "At first glance, this seems promising: the estimate lands reasonably close to $\\pi$, correct to one decimal place. But how much should we trust this number? What if we ran this experiment again? Would we get the same result?"
   ]
  },
  {
   "cell_type": "markdown",
   "id": "bf5914a0",
   "metadata": {},
   "source": [
    "## Beyond Point Estimates: Bayes\n",
    "\n",
    "Estimating $\\pi$ by sampling random numubers naturally involves randomness. Each run of our simulation produces a slightly different estimate. If we increase the number of samples, our estimates tend to cluster around the true value of $\\pi$ but by how much? And how do we express this uncertainty mathematically?\n",
    "\n",
    "This is where Bayesian inference comes in. Instead of treating our estimate as a single number, we seek to determine a probability distribution over possible values of π. This approach allows us to:\n",
    "- Quantify uncertainty -- how confident are we in our estimate?\n",
    "- Update our belief dynamically -- as more data becomes available, our estimate of π should become more refined."
   ]
  },
  {
   "cell_type": "markdown",
   "id": "d4bbfbaa",
   "metadata": {},
   "source": [
    "### Likelihood\n",
    "\n",
    "Each sampled point either falls inside the circle (success, 1) or outside (failure, 0). If we assume each sample is independent, the number of successes $s$ out of $N$ trials follows a Binomial distribution\n",
    "\n",
    "$$p(s|q,N) = \\binom{N}{s}  q^s (1 - q)^{N - s} $$\n",
    "\n",
    "### Posterior\n",
    "\n",
    "Now that we have our likelihood function, we can apply Bayes’ theorem to update our belief about qq after observing data. The logic follows the same done for our [previous blog on the subject](https://labpresse.com/why-do-we-need-bayesian-statistics-part-i-asserting-if-a-coin-is-biased-tutorial/)\n",
    "$$ p(q|s,N) = p(q) \\frac{p(s|q,N)}{p(s|N)} \\propto p(q) {p(s|q,N)}$$\n",
    "\n",
    "Since we work in a limited interval ($q$ represents $\\pi/4$ and is between 0 and 1) we started with a uniform prior, meaning $p(q) = 1$ for all $q$. Thus the posterior simplifies to\n",
    "$$ p(q∣s,N) = C q^s (1 - q)^{N - s}$$\n",
    "where $C$ is a normalization constant ensuring the total probability sums to 1."
   ]
  },
  {
   "cell_type": "code",
   "execution_count": 5,
   "id": "41a686e2",
   "metadata": {},
   "outputs": [],
   "source": [
    "def likelihood(sucess,q):\n",
    "    return q**(sucess.sum())* (1-q)**((1-sucess).sum())\n",
    "\n",
    "def posterior(data,precision=1000000):\n",
    "    q = np.linspace(0,1,precision)\n",
    "    dq = q[1]-q[0]\n",
    "    \n",
    "    #non-marginalized posterior, we comment the prior calculation as we are using a uniform one.\n",
    "    nm_posterior = likelihood(data,q) #*prior(q)\n",
    "\n",
    "    #denominator integral for marginalization\n",
    "    integral = np.sum(nm_posterior)*dq\n",
    "\n",
    "    posterior = nm_posterior/integral\n",
    "    return q, posterior\n",
    "\n",
    "\n"
   ]
  },
  {
   "cell_type": "markdown",
   "id": "a20314fd",
   "metadata": {},
   "source": [
    "### Transforming the Posterior into $\\pi$\n",
    "\n",
    "Since $$\\pi =4q$$\n",
    "\n",
    "we can transform samples from $q$'s posterior to a posterior for $\\pi$\n",
    "$$p(\\pi|s,N) = \\frac{1}{4}p(q|s,N)$$\n",
    "\n",
    "To visualize how Bayesian inference improves our estimate of qq, let’s plot its posterior distribution after 10, 100, and 1000 samples\n",
    "\n"
   ]
  },
  {
   "cell_type": "code",
   "execution_count": 6,
   "id": "3a70b0db",
   "metadata": {},
   "outputs": [
    {
     "data": {
      "image/png": "[encoded data removed]",
      "text/plain": [
       "<Figure size 640x480 with 1 Axes>"
      ]
     },
     "metadata": {},
     "output_type": "display_data"
    }
   ],
   "source": [
    "for j in [10,100,1000]:\n",
    "    q, p = posterior(success[:j])\n",
    "    plt.plot(4*q,p/4,label='{} datapoints'.format(j))\n",
    "plt.axvline(np.pi,color = 'k',label=r'Target: $\\pi$/4 $\\approx$ {:.2f}'.format(np.pi/4))\n",
    "plt.xlabel(r'Estimated $\\pi$')\n",
    "plt.ylabel('Posterior')\n",
    "plt.legend()\n",
    "plt.savefig('pi_post')"
   ]
  },
  {
   "cell_type": "markdown",
   "id": "e217ad1d",
   "metadata": {},
   "source": [
    "Interestingly, in our first batch of 10 samples, all points happened to fall inside the circle. This is possible when dealing with randomness. This highlights why uncertainty quantification is essential: if we only relied on a point estimate, we might wrongly assume $\\pi = 4$. \n",
    "\n",
    "This is the power of Bayesian inference: as data accumulates, our uncertainty decreases, and the posterior indeed concentrates around the true value of $\\pi$.\n"
   ]
  },
  {
   "cell_type": "code",
   "execution_count": 7,
   "id": "c42376b5",
   "metadata": {},
   "outputs": [],
   "source": [
    "def credible_interval(q, post, conf=0.95, init_dif=1):\n",
    "    dq = q[1] - q[0]\n",
    "    max_ind = post.argmax()\n",
    "    dif = init_dif  # Start with an initial guess for dif\n",
    "    \n",
    "    # Compute the initial sum\n",
    "    interval_sum = np.sum(post[max(0, max_ind - dif):min(len(post), max_ind + dif + 1)]) * dq\n",
    "    \n",
    "    while True:\n",
    "        left_ind = max(0, max_ind - dif - 1)\n",
    "        right_ind = min(len(post) - 1, max_ind + dif + 1)\n",
    "        \n",
    "        if interval_sum >= conf:\n",
    "            # Try reducing from one side\n",
    "            if dif > 0:\n",
    "                interval_sum -= post[left_ind + 1] * dq if max_ind - dif >= 0 else 0\n",
    "                interval_sum -= post[right_ind - 1] * dq if max_ind + dif < len(post) else 0\n",
    "                if interval_sum < conf:\n",
    "                    break\n",
    "                dif -= 1\n",
    "        else:\n",
    "            # Expand the interval\n",
    "            dif += 1\n",
    "            interval_sum += post[left_ind] * dq if max_ind - dif >= 0 else 0\n",
    "            interval_sum += post[right_ind] * dq if max_ind + dif < len(post) else 0\n",
    "    #print(interval_sum)\n",
    "            \n",
    "    return q[max(0, max_ind - dif)], q[min(len(post) - 1, max_ind + dif)]"
   ]
  },
  {
   "cell_type": "markdown",
   "id": "6c8fa68f",
   "metadata": {},
   "source": [
    "## Visualizing the Bayesian update\n",
    "\n",
    "To further illustrate this, let’s look at an animation that dynamically shows how our estimate of $\\pi$ evolves as more data is collected. (Full code on my [GitHub](https://github.com/PessoaP/blog/blob/master/Coins/PI.ipynb))\n",
    "\n",
    "\n"
   ]
  },
  {
   "cell_type": "code",
   "execution_count": 8,
   "id": "672c3d37",
   "metadata": {},
   "outputs": [
    {
     "name": "stderr",
     "output_type": "stream",
     "text": [
      "/tmp/ipykernel_148093/3814921628.py:49: DeprecationWarning: Starting with ImageIO v3 the behavior of this function will switch to that of iio.v3.imread. To keep the current behavior (and make this warning disappear) use `import imageio.v2 as imageio` or call `imageio.v2.imread` directly.\n",
      "  imageio.mimsave(output_gif, [imageio.imread(frame) for frame in frames], duration=.9)\n"
     ]
    }
   ],
   "source": [
    "#Removed data block, see notebook on GitHub for full code\n",
    "import imageio\n",
    "import matplotlib.ticker as ticker\n",
    "\n",
    "Ns = [1,2,3,4,5,6,7,8,9,10,15,20,25,30,35,40,45,50,75,100,150,200,250,300,350,400,500,600,700,800,900,1000]\n",
    "frames=[]\n",
    "\n",
    "initial_dif = 1000000\n",
    "for i in range(len(Ns)):\n",
    "    N = Ns[i]\n",
    "    fig,ax =plt.subplots(1,2,figsize =(7,3.5))\n",
    "\n",
    "    \n",
    "    q,post= posterior(success[:N])\n",
    "    ax[1].plot(4*q,post/4)\n",
    "    fig.suptitle(f'{N:>5} datapoints', y=0.96) \n",
    "\n",
    "    \n",
    "    ax[1].axvline(np.pi,color = 'k',label=r'Real $\\pi$')\n",
    "    ax[1].set_xlabel(r'Estimated $\\pi$',fontsize=15)\n",
    "    ax[1].set_ylabel('Posterior',fontsize=15)\n",
    "    ax[1].set_xlim(0, 4)\n",
    "\n",
    "    #print(initial_dif)\n",
    "    conf95 = credible_interval(q,post,init_dif=initial_dif)\n",
    "    initial_dif = int(((conf95[1]-conf95[0])/(q[1]-q[0]))//2)\n",
    "    \n",
    "    ax[1].fill_between(4*np.array(conf95),(0,0),(post.max()/np.pi,post.max()/np.pi),\n",
    "                       color='r',alpha=.25,label='95% credibility')\n",
    "    ax[1].set_yticks([])\n",
    "\n",
    "    ax[1].legend(loc=2)\n",
    "\n",
    "    plot_square(ax[0],N)\n",
    "    ax[0].set_xlabel('Samples',fontsize=15)\n",
    "    \n",
    "\n",
    "    #plt.show()\n",
    "\n",
    "    filename = f'gif_frames/frame_{i}.png'\n",
    "    plt.tight_layout()\n",
    "    plt.savefig(filename)\n",
    "    frames.append(filename)\n",
    "\n",
    "    plt.close()\n",
    "\n",
    "\n",
    "output_gif = 'animation.gif'\n",
    "imageio.mimsave(output_gif, [imageio.imread(frame) for frame in frames], duration=.9)\n"
   ]
  },
  {
   "cell_type": "markdown",
   "id": "22fc5291",
   "metadata": {},
   "source": [
    "**Left Panel:** The sampled points appear within the circle. We mark in green when fall inside the circle (successes), while red points fall outside (failures).The fraction of points inside the circle is computed at each step.\n",
    "\n",
    "**Right Panel:** Posterior distribution for π updated in real-time, with the 95% credible interval shown as a red shaded region. (A 95% credible interval means there's a 95% probability, given our data, that $\\pi$ lies within that shaded area.)\n",
    "\n",
    "Initially, with only a small number of samples, this interval is broad and skewed towards larger values. However, as more points are collected, the posterior distribution narrows and concentrates tightly around the true value of $\\pi$.\n",
    "\n",
    "This visualization highlights the strength of Bayesian methods in quantifying uncertainty, allowing our confidence in the estimate to grow as more data is collected."
   ]
  },
  {
   "cell_type": "markdown",
   "id": "714132b3",
   "metadata": {},
   "source": [
    "## Happy $\\pi$ day"
   ]
  },
  {
   "cell_type": "markdown",
   "id": "c7291eda",
   "metadata": {},
   "source": []
  }
 ],
 "metadata": {
  "kernelspec": {
   "display_name": "Python 3 (ipykernel)",
   "language": "python",
   "name": "python3"
  },
  "language_info": {
   "codemirror_mode": {
    "name": "ipython",
    "version": 3
   },
   "file_extension": ".py",
   "mimetype": "text/x-python",
   "name": "python",
   "nbconvert_exporter": "python",
   "pygments_lexer": "ipython3",
   "version": "3.9.19"
  }
 },
 "nbformat": 4,
 "nbformat_minor": 5
}
